{
 "cells": [
  {
   "cell_type": "code",
   "execution_count": 12,
   "id": "28f3db76-457b-4eaf-8e9b-a02ef8bdbd9e",
   "metadata": {},
   "outputs": [],
   "source": [
    "# Importing the WebDriver module from the Selenium library to interact with web browsers (like Chrome, Firefox, etc.)\n",
    "\n",
    "from selenium import webdriver"
   ]
  },
  {
   "cell_type": "code",
   "execution_count": 13,
   "id": "b1fdeab9-226b-41d3-b326-c685844d86d5",
   "metadata": {},
   "outputs": [],
   "source": [
    "# Importing the Service class to manage the ChromeDriver executable as a separate process\n",
    "\n",
    "from selenium.webdriver.chrome.service import Service"
   ]
  },
  {
   "cell_type": "code",
   "execution_count": 14,
   "id": "89505a25-c5c8-4e64-8d82-2340e2c7b046",
   "metadata": {},
   "outputs": [],
   "source": [
    "# Importing ChromeDriverManager to automatically manage and download the correct version of ChromeDriver\n",
    "\n",
    "from webdriver_manager.chrome import ChromeDriverManager"
   ]
  },
  {
   "cell_type": "code",
   "execution_count": 15,
   "id": "86fb58a9-e39b-4ed1-85ec-f79e971b486a",
   "metadata": {},
   "outputs": [],
   "source": [
    "# Importing the time module to add delays (sleep) in the script for better control over execution timing\n",
    "\n",
    "import time"
   ]
  },
  {
   "cell_type": "code",
   "execution_count": 16,
   "id": "17c49fff-3188-4bd0-8336-ca251a7d6093",
   "metadata": {},
   "outputs": [],
   "source": [
    "# Setting up the ChromeDriver service by automatically downloading the appropriate ChromeDriver version\n",
    "# using ChromeDriverManager, which manages ChromeDriver binaries for Selenium.\n",
    "\n",
    "service = Service(ChromeDriverManager().install())"
   ]
  },
  {
   "cell_type": "code",
   "execution_count": 17,
   "id": "c4207251-8af3-48dc-a27a-f9dd0fd50a60",
   "metadata": {},
   "outputs": [],
   "source": [
    "# Creating a new instance of the Chrome WebDriver, using the service object that was previously set up.\n",
    "# This allows Selenium to launch and control the Chrome browser.\n",
    "\n",
    "driver = webdriver.Chrome(service=service)"
   ]
  },
  {
   "cell_type": "code",
   "execution_count": 18,
   "id": "cbc0ccf3-0142-464a-a310-21688829c106",
   "metadata": {},
   "outputs": [],
   "source": [
    "# Navigating the Chrome browser instance to the specified URL (in this case, Google's homepage).\n",
    "# This will load the webpage so that further actions can be performed on it.\n",
    "\n",
    "driver.get('https://www.ajio.com/c/830307006')"
   ]
  },
  {
   "cell_type": "code",
   "execution_count": 19,
   "id": "777b5521-c8b3-4237-8e12-f2e49904b3e9",
   "metadata": {},
   "outputs": [],
   "source": [
    "# Pausing the execution of the script for 4 seconds.\n",
    "# This delay allows the webpage to fully load before the script continues to the next actions,\n",
    "# ensuring that all elements are accessible and interactable.\n",
    "\n",
    "time.sleep(4)"
   ]
  },
  {
   "cell_type": "code",
   "execution_count": 20,
   "id": "b4458fa4-b5cb-452b-ad1d-3ce31e9934d2",
   "metadata": {},
   "outputs": [],
   "source": [
    "# Get the height of the entire webpage by executing a JavaScript command. \n",
    "# This value represents the total scrollable height of the webpage, which will help in simulating scrolling down.\n",
    "\n",
    "height = driver.execute_script('return document.body.scrollHeight')\n",
    "old_height = height"
   ]
  },
  {
   "cell_type": "code",
   "execution_count": 21,
   "id": "fcdc815b-3606-4251-b82c-c6d5cb6063b3",
   "metadata": {},
   "outputs": [
    {
     "name": "stdout",
     "output_type": "stream",
     "text": [
      "Old height:  10573\n",
      "New (total) height:  563893\n"
     ]
    }
   ],
   "source": [
    "# Infinite scrolling loop to load more content on the webpage.\n",
    "\n",
    "while True:\n",
    "    # Scroll down to the bottom of the page by executing a JavaScript command.\n",
    "    driver.execute_script('window.scrollTo(0, document.body.scrollHeight)')\n",
    "    \n",
    "    # Wait for 4 seconds to give the page enough time to load new content.\n",
    "    time.sleep(4)\n",
    "    \n",
    "    # Get the new height of the page after scrolling, which may have increased if new content was loaded.\n",
    "    new_height = driver.execute_script('return document.body.scrollHeight')\n",
    "    \n",
    "    # Check if the page height remains the same, meaning no new content was loaded.\n",
    "    if height == new_height:\n",
    "        # If no new content is loaded (i.e., page height hasn't changed), break the loop and stop scrolling.\n",
    "        break\n",
    "    \n",
    "    # Update the height variable to the new height for the next loop iteration.\n",
    "    height = new_height\n",
    "\n",
    "print('Old height: ', old_height)\n",
    "print('New (total) height: ', height)"
   ]
  },
  {
   "cell_type": "code",
   "execution_count": 23,
   "id": "5aa51c3a-b168-4682-a4e8-dc5274375974",
   "metadata": {},
   "outputs": [],
   "source": [
    "driver.quit()"
   ]
  }
 ],
 "metadata": {
  "kernelspec": {
   "display_name": "Python 3 (ipykernel)",
   "language": "python",
   "name": "python3"
  },
  "language_info": {
   "codemirror_mode": {
    "name": "ipython",
    "version": 3
   },
   "file_extension": ".py",
   "mimetype": "text/x-python",
   "name": "python",
   "nbconvert_exporter": "python",
   "pygments_lexer": "ipython3",
   "version": "3.11.7"
  }
 },
 "nbformat": 4,
 "nbformat_minor": 5
}
